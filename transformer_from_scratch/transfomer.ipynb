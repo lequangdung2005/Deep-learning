{
 "cells": [
  {
   "cell_type": "code",
   "execution_count": 124,
   "metadata": {},
   "outputs": [
    {
     "name": "stdout",
     "output_type": "stream",
     "text": [
      "2.4.0\n"
     ]
    }
   ],
   "source": [
    "# importing required libraries\n",
    "import torch.nn as nn\n",
    "import torch\n",
    "import torch.nn.functional as F\n",
    "import warnings\n",
    "import pandas as pd\n",
    "import numpy as np\n",
    "import seaborn as sns\n",
    "import nltk\n",
    "import matplotlib.pyplot as plt\n",
    "warnings.simplefilter(\"ignore\")\n",
    "print(torch.__version__)"
   ]
  },
  {
   "cell_type": "code",
   "execution_count": 125,
   "metadata": {},
   "outputs": [],
   "source": [
    "device=\"cuda\" if torch.cuda.is_available() else 'cpu'\n",
    "class positional_embedding(nn.Module):\n",
    "    def __init__(self,max_len,embedding_size):\n",
    "        super(positional_embedding,self).__init__()\n",
    "        self.embed_size=embedding_size\n",
    "        self.pe=torch.zeros(max_len,self.embed_size).to(device)\n",
    "        for pos in range(max_len):\n",
    "            for i in range(0,embedding_size,2):\n",
    "                self.pe[pos,i]=np.sin(pos/(10000**((2*i)/embedding_size)))\n",
    "                self.pe[pos,i+1]=np.cos(pos/(10000**((2*(i+1))/embedding_size)))\n",
    "        self.pe=self.pe.unsqueeze(dim=0)\n",
    "    def forward(self,x):\n",
    "        x=x*np.sqrt(self.embed_size)\n",
    "        seq_len=x.shape[1]\n",
    "        x=x+self.pe[:,:seq_len]\n",
    "        return x\n",
    "        "
   ]
  },
  {
   "cell_type": "code",
   "execution_count": 126,
   "metadata": {},
   "outputs": [],
   "source": [
    "class MultiHeadAttention(nn.Module):\n",
    "    def __init__(self,embedding_size,n_heads):\n",
    "        super(MultiHeadAttention,self).__init__()\n",
    "        self.embed_size=embedding_size\n",
    "        self.n_heads=n_heads\n",
    "        self.single_head_size=int(self.embed_size/n_heads)\n",
    "        self.Q_matrix=nn.Linear(self.single_head_size,self.single_head_size,bias=False)\n",
    "        self.K_matrix=nn.Linear(self.single_head_size,self.single_head_size,bias=False)\n",
    "        self.V_matrix=nn.Linear(self.single_head_size,self.single_head_size,bias=False)\n",
    "        self.out=nn.Linear(embedding_size,embedding_size)\n",
    "    def forward(self,query,key,value,mask=None):\n",
    "        batch_size=key.shape[0]\n",
    "\n",
    "        seq_length=key.shape[1]\n",
    "\n",
    "        seq_length_query=query.shape[1]\n",
    "\n",
    "        key = key.view(batch_size, seq_length, self.n_heads, self.single_head_size)  #batch_size x sequence_length x n_heads x single_head_size = (32x10x8x64)\n",
    "        query = query.view(batch_size, seq_length_query, self.n_heads, self.single_head_size) #(32x10x8x64)\n",
    "        value = value.view(batch_size, seq_length, self.n_heads, self.single_head_size) #(32x10x8x64)\n",
    "        k = self.K_matrix(key)       # (32x10x8x64)\n",
    "        q = self.Q_matrix(query)   \n",
    "        v = self.V_matrix(value)\n",
    "\n",
    "        q = q.permute(0,2,1,3)  # (batch_size, n_heads, seq_len, single_head_size)    # (32 x 8 x 10 x 64)\n",
    "        k = k.permute(0,2,1,3)  # (batch_size, n_heads, seq_len, single_head_size)\n",
    "        v = v.permute(0,2,1,3) \n",
    "        \n",
    "        k_adjusted = k.transpose(-1,-2)  #(batch_size, n_heads, single_head_size, seq_ken)  #(32 x 8 x 64 x 10)\n",
    "        dot=torch.matmul(q,k_adjusted)\n",
    "        if mask is not None:\n",
    "            dot = dot.masked_fill(mask == 0, float(\"-1e20\"))\n",
    "        dot=dot/np.sqrt(self.single_head_size)\n",
    "        \n",
    "        scores=F.softmax(dot,dim=-1)\n",
    "        \n",
    "        scores=torch.matmul(scores,v)\n",
    "        \n",
    "        concat=scores.permute(0,2,1,3)\n",
    "        \n",
    "        concat=concat.reshape(batch_size, seq_length_query, self.single_head_size*self.n_heads)\n",
    "        \n",
    "        output=self.out(concat)\n",
    "        \n",
    "        return output\n",
    "        \n"
   ]
  },
  {
   "cell_type": "code",
   "execution_count": 127,
   "metadata": {},
   "outputs": [],
   "source": [
    "class TransformerBlock(nn.Module):\n",
    "    def __init__(self,embed_size,expansion_factor,n_heads):\n",
    "        super(TransformerBlock, self).__init__()\n",
    "        self.attention=MultiHeadAttention(embed_size,n_heads)\n",
    "        self.NN=nn.Sequential(\n",
    "            nn.Linear(embed_size,embed_size*expansion_factor),\n",
    "            nn.ReLU(),\n",
    "            nn.Linear(embed_size*expansion_factor,embed_size)\n",
    "        )\n",
    "        self.norm1=nn.LayerNorm(embed_size)\n",
    "        self.norm2=nn.LayerNorm(embed_size)\n",
    "        self.dropout1=nn.Dropout(0.2)\n",
    "        self.dropout2=nn.Dropout(0.2)\n",
    "    def forward(self,key,query,value):\n",
    "        value1=self.attention(query,key,value)\n",
    "        value1=self.dropout1(self.norm1(value1+value))\n",
    "        value2=self.NN(value1)\n",
    "        value2=self.dropout2(self.norm2(value2+value1))\n",
    "        return value2\n",
    "        \n"
   ]
  },
  {
   "cell_type": "code",
   "execution_count": 128,
   "metadata": {},
   "outputs": [],
   "source": [
    "class Encoder(nn.Module):\n",
    "    def __init__(self,vocab_size,max_len,embedding_size,num_layers,expansion_factor=4,n_heads=8):\n",
    "        super(Encoder,self).__init__()\n",
    "        self.blocks = nn.ModuleList([TransformerBlock(embedding_size, expansion_factor, n_heads) for i in range(num_layers)])\n",
    "        self.embedding=nn.Embedding(vocab_size,embedding_size)\n",
    "        self.positional=positional_embedding(max_len,embedding_size)\n",
    "    def forward(self,x):\n",
    "        embed_out=self.embedding(x)\n",
    "        out=self.positional(embed_out)\n",
    "        for block in self.blocks:\n",
    "            out=block(out,out,out)\n",
    "        return out"
   ]
  },
  {
   "cell_type": "code",
   "execution_count": 129,
   "metadata": {},
   "outputs": [],
   "source": [
    "class DecoderBlock(nn.Module):\n",
    "    def __init__(self, embed_size, expansion_factor=4, n_heads=8):\n",
    "        super(DecoderBlock, self).__init__()\n",
    "       \n",
    "        self.attention=MultiHeadAttention(embed_size,n_heads)\n",
    "       \n",
    "        self.norm=nn.LayerNorm(embed_size)\n",
    "       \n",
    "        self.dropout=nn.Dropout(0.2)\n",
    "       \n",
    "        self.transformer_block=TransformerBlock(embed_size,expansion_factor,n_heads)\n",
    "    def forward(self,query,key,x,mask):\n",
    "        attention=self.attention(x,x,x,mask=mask)\n",
    "       \n",
    "        value=self.dropout(self.norm(attention+x))\n",
    "       \n",
    "        out=self.transformer_block(query,key,value)\n",
    "       \n",
    "        return out\n",
    "class TransfomerDecoder(nn.Module):\n",
    "    def __init__(self,num_layers,target_vocab_size,max_len,embed_size,expansion_factor=4,n_heads=8):\n",
    "        super(TransfomerDecoder,self).__init__()\n",
    "        self.positional=positional_embedding(max_len,embed_size)\n",
    "        \n",
    "        self.embedding=nn.Embedding(target_vocab_size,embed_size)\n",
    "        \n",
    "        self.fc_out = nn.Linear(embed_size, target_vocab_size)\n",
    "\n",
    "        self.dropout = nn.Dropout(0.2)\n",
    "\n",
    "        self.blocks=nn.ModuleList([DecoderBlock(embed_size,expansion_factor,n_heads) for i in range(num_layers)])\n",
    "    def forward(self,x,enc_out,mask):\n",
    "        x = self.embedding(x)  #32x10x512\n",
    "        x = self.positional(x) #32x10x512\n",
    "        x = self.dropout(x)\n",
    "     \n",
    "        for layer in self.blocks:\n",
    "            x = layer(x,enc_out, enc_out, mask) \n",
    "\n",
    "        out = F.softmax(self.fc_out(x))\n",
    "\n",
    "        return out\n",
    "\n",
    "    "
   ]
  },
  {
   "cell_type": "code",
   "execution_count": 130,
   "metadata": {},
   "outputs": [],
   "source": [
    "class Transformer(nn.Module):\n",
    "    def __init__(self,embed_size,num_layers,vocab_size,target_vocab_size,max_len,n_heads=8):\n",
    "        super(Transformer,self).__init__()\n",
    "        self.target_vocab_size=target_vocab_size\n",
    "        self.encoder=Encoder(vocab_size,max_len,embed_size,num_layers) \n",
    "        self.decoder=TransfomerDecoder(num_layers,target_vocab_size,max_len,embed_size)\n",
    "    def make_trg_mask(self, trg):\n",
    "        batch_size, trg_len = trg.shape\n",
    "        # returns the lower triangular part of matrix filled with ones\n",
    "        trg_mask = torch.tril(torch.ones((trg_len, trg_len))).expand(\n",
    "            batch_size, 1, trg_len, trg_len\n",
    "        ).to(device)\n",
    "        return trg_mask  \n",
    "    def forward(self,encoder_input,decoder_input):\n",
    "        mask=self.make_trg_mask(decoder_input)\n",
    "        encoder_output=self.encoder(encoder_input)\n",
    "        output=self.decoder(decoder_input,encoder_output,mask)\n",
    "        return output"
   ]
  },
  {
   "cell_type": "code",
   "execution_count": 131,
   "metadata": {},
   "outputs": [
    {
     "name": "stdout",
     "output_type": "stream",
     "text": [
      "torch.Size([2, 12]) torch.Size([2, 12])\n"
     ]
    }
   ],
   "source": [
    "src_vocab_size = 11\n",
    "target_vocab_size = 11\n",
    "num_layers = 6\n",
    "seq_length= 12\n",
    "n_heads=8\n",
    "\n",
    "# let 0 be sos token and 1 be eos token\n",
    "src = torch.tensor([[0, 2, 5, 6, 4, 3, 9, 5, 2, 9, 10, 1], \n",
    "                    [0, 2, 8, 7, 3, 4, 5, 6, 7, 2, 10, 1]])\n",
    "target = torch.tensor([[0, 1, 7, 4, 3, 5, 9, 2, 8, 10, 9, 1], \n",
    "                       [0, 1, 5, 6, 2, 4, 7, 6, 2, 8, 10, 1]])\n",
    "\n",
    "print(src.shape,target.shape)\n",
    "model = Transformer(embed_size=512,num_layers=num_layers,vocab_size=src_vocab_size, \n",
    "                    target_vocab_size=target_vocab_size, max_len=seq_length,n_heads=n_heads).to(device)\n"
   ]
  },
  {
   "cell_type": "code",
   "execution_count": null,
   "metadata": {},
   "outputs": [],
   "source": []
  },
  {
   "cell_type": "code",
   "execution_count": 132,
   "metadata": {},
   "outputs": [
    {
     "data": {
      "text/plain": [
       "torch.Size([64, 12])"
      ]
     },
     "execution_count": 132,
     "metadata": {},
     "output_type": "execute_result"
    }
   ],
   "source": [
    "src_data = torch.randint(1, src_vocab_size, (64, seq_length)).to(device)  # (batch_size, seq_length)\n",
    "tgt_data = torch.randint(1, target_vocab_size, (64, seq_length)).to(device)\n",
    "src_data.shape"
   ]
  },
  {
   "cell_type": "code",
   "execution_count": 135,
   "metadata": {},
   "outputs": [
    {
     "data": {
      "application/vnd.jupyter.widget-view+json": {
       "model_id": "0437b83d475b4428b5e3101fee3f1906",
       "version_major": 2,
       "version_minor": 0
      },
      "text/plain": [
       "  0%|          | 0/100 [00:00<?, ?it/s]"
      ]
     },
     "metadata": {},
     "output_type": "display_data"
    },
    {
     "name": "stdout",
     "output_type": "stream",
     "text": [
      "Epoch: 1, Loss: 2.3727633953094482\n",
      "Epoch: 2, Loss: 2.3690943717956543\n",
      "Epoch: 3, Loss: 2.3746025562286377\n",
      "Epoch: 4, Loss: 2.374056100845337\n",
      "Epoch: 5, Loss: 2.3723132610321045\n",
      "Epoch: 6, Loss: 2.3733551502227783\n",
      "Epoch: 7, Loss: 2.3721957206726074\n",
      "Epoch: 8, Loss: 2.372122287750244\n",
      "Epoch: 9, Loss: 2.371638298034668\n",
      "Epoch: 10, Loss: 2.37229323387146\n",
      "Epoch: 11, Loss: 2.3688580989837646\n",
      "Epoch: 12, Loss: 2.370147943496704\n",
      "Epoch: 13, Loss: 2.3694193363189697\n",
      "Epoch: 14, Loss: 2.3709821701049805\n",
      "Epoch: 15, Loss: 2.370960235595703\n",
      "Epoch: 16, Loss: 2.3703792095184326\n",
      "Epoch: 17, Loss: 2.3674182891845703\n",
      "Epoch: 18, Loss: 2.367587089538574\n",
      "Epoch: 19, Loss: 2.3661177158355713\n",
      "Epoch: 20, Loss: 2.367017984390259\n",
      "Epoch: 21, Loss: 2.36651349067688\n",
      "Epoch: 22, Loss: 2.3698039054870605\n",
      "Epoch: 23, Loss: 2.367149829864502\n",
      "Epoch: 24, Loss: 2.363593101501465\n",
      "Epoch: 25, Loss: 2.3651373386383057\n",
      "Epoch: 26, Loss: 2.365278482437134\n",
      "Epoch: 27, Loss: 2.3649349212646484\n",
      "Epoch: 28, Loss: 2.36445689201355\n",
      "Epoch: 29, Loss: 2.365483522415161\n",
      "Epoch: 30, Loss: 2.366502046585083\n",
      "Epoch: 31, Loss: 2.3620970249176025\n",
      "Epoch: 32, Loss: 2.361799716949463\n",
      "Epoch: 33, Loss: 2.3654634952545166\n",
      "Epoch: 34, Loss: 2.3630921840667725\n",
      "Epoch: 35, Loss: 2.3612987995147705\n",
      "Epoch: 36, Loss: 2.3639309406280518\n",
      "Epoch: 37, Loss: 2.3608267307281494\n",
      "Epoch: 38, Loss: 2.362654209136963\n",
      "Epoch: 39, Loss: 2.3610646724700928\n",
      "Epoch: 40, Loss: 2.3627517223358154\n",
      "Epoch: 41, Loss: 2.3589510917663574\n",
      "Epoch: 42, Loss: 2.361140489578247\n",
      "Epoch: 43, Loss: 2.361266851425171\n",
      "Epoch: 44, Loss: 2.3585686683654785\n",
      "Epoch: 45, Loss: 2.357295036315918\n",
      "Epoch: 46, Loss: 2.359004259109497\n",
      "Epoch: 47, Loss: 2.3561437129974365\n",
      "Epoch: 48, Loss: 2.3577377796173096\n",
      "Epoch: 49, Loss: 2.3603603839874268\n",
      "Epoch: 50, Loss: 2.3548147678375244\n",
      "Epoch: 51, Loss: 2.3571720123291016\n",
      "Epoch: 52, Loss: 2.3544692993164062\n",
      "Epoch: 53, Loss: 2.3585660457611084\n",
      "Epoch: 54, Loss: 2.354438543319702\n",
      "Epoch: 55, Loss: 2.354586362838745\n",
      "Epoch: 56, Loss: 2.353904962539673\n",
      "Epoch: 57, Loss: 2.3533775806427\n",
      "Epoch: 58, Loss: 2.3525912761688232\n",
      "Epoch: 59, Loss: 2.3520567417144775\n",
      "Epoch: 60, Loss: 2.352891683578491\n",
      "Epoch: 61, Loss: 2.354064464569092\n",
      "Epoch: 62, Loss: 2.3526835441589355\n",
      "Epoch: 63, Loss: 2.3506991863250732\n",
      "Epoch: 64, Loss: 2.351234197616577\n",
      "Epoch: 65, Loss: 2.3506665229797363\n",
      "Epoch: 66, Loss: 2.349618673324585\n",
      "Epoch: 67, Loss: 2.3509228229522705\n",
      "Epoch: 68, Loss: 2.352674961090088\n",
      "Epoch: 69, Loss: 2.3491485118865967\n",
      "Epoch: 70, Loss: 2.3506743907928467\n",
      "Epoch: 71, Loss: 2.352036714553833\n",
      "Epoch: 72, Loss: 2.3476715087890625\n",
      "Epoch: 73, Loss: 2.3502469062805176\n",
      "Epoch: 74, Loss: 2.3503715991973877\n",
      "Epoch: 75, Loss: 2.344147205352783\n",
      "Epoch: 76, Loss: 2.3469078540802\n",
      "Epoch: 77, Loss: 2.3461434841156006\n",
      "Epoch: 78, Loss: 2.350017786026001\n",
      "Epoch: 79, Loss: 2.347470998764038\n",
      "Epoch: 80, Loss: 2.3464691638946533\n",
      "Epoch: 81, Loss: 2.347975492477417\n",
      "Epoch: 82, Loss: 2.3443658351898193\n",
      "Epoch: 83, Loss: 2.3454678058624268\n",
      "Epoch: 84, Loss: 2.344953775405884\n",
      "Epoch: 85, Loss: 2.349799394607544\n",
      "Epoch: 86, Loss: 2.3461766242980957\n",
      "Epoch: 87, Loss: 2.344172716140747\n",
      "Epoch: 88, Loss: 2.344794988632202\n",
      "Epoch: 89, Loss: 2.3420116901397705\n",
      "Epoch: 90, Loss: 2.3431880474090576\n",
      "Epoch: 91, Loss: 2.3429763317108154\n",
      "Epoch: 92, Loss: 2.3437860012054443\n",
      "Epoch: 93, Loss: 2.3447697162628174\n",
      "Epoch: 94, Loss: 2.341181993484497\n",
      "Epoch: 95, Loss: 2.343489408493042\n",
      "Epoch: 96, Loss: 2.3418028354644775\n",
      "Epoch: 97, Loss: 2.3420119285583496\n",
      "Epoch: 98, Loss: 2.3414714336395264\n",
      "Epoch: 99, Loss: 2.3398289680480957\n",
      "Epoch: 100, Loss: 2.339590072631836\n"
     ]
    }
   ],
   "source": [
    "criterion = nn.CrossEntropyLoss(ignore_index=0)\n",
    "optimizer = torch.optim.Adam(model.parameters(), lr=0.0001, betas=(0.9, 0.98), eps=1e-9)\n",
    "model.train()\n",
    "from tqdm.auto import tqdm\n",
    "for epoch in tqdm(range(100)):\n",
    "    optimizer.zero_grad()\n",
    "    output = model(src_data, tgt_data[:, :])\n",
    "    loss = criterion(output.contiguous().view(-1, target_vocab_size), tgt_data[:,:].contiguous().view(-1))\n",
    "    loss.backward()\n",
    "    optimizer.step()\n",
    "    print(f\"Epoch: {epoch+1}, Loss: {loss.item()}\")"
   ]
  },
  {
   "cell_type": "code",
   "execution_count": 134,
   "metadata": {},
   "outputs": [
    {
     "data": {
      "text/plain": [
       "'cuda'"
      ]
     },
     "execution_count": 134,
     "metadata": {},
     "output_type": "execute_result"
    }
   ],
   "source": []
  },
  {
   "cell_type": "code",
   "execution_count": null,
   "metadata": {},
   "outputs": [],
   "source": []
  }
 ],
 "metadata": {
  "kernelspec": {
   "display_name": "Python 3",
   "language": "python",
   "name": "python3"
  },
  "language_info": {
   "codemirror_mode": {
    "name": "ipython",
    "version": 3
   },
   "file_extension": ".py",
   "mimetype": "text/x-python",
   "name": "python",
   "nbconvert_exporter": "python",
   "pygments_lexer": "ipython3",
   "version": "3.11.9"
  }
 },
 "nbformat": 4,
 "nbformat_minor": 2
}
