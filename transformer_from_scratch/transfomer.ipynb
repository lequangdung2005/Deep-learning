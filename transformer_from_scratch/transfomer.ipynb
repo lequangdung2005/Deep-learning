{
 "cells": [
  {
   "cell_type": "code",
   "execution_count": 18,
   "metadata": {},
   "outputs": [
    {
     "name": "stdout",
     "output_type": "stream",
     "text": [
      "2.4.0\n"
     ]
    }
   ],
   "source": [
    "# importing required libraries\n",
    "import torch.nn as nn\n",
    "import torch\n",
    "import torch.nn.functional as F\n",
    "import warnings\n",
    "import pandas as pd\n",
    "import numpy as np\n",
    "import matplotlib.pyplot as plt\n",
    "warnings.simplefilter(\"ignore\")\n",
    "print(torch.__version__)"
   ]
  },
  {
   "cell_type": "code",
   "execution_count": 19,
   "metadata": {},
   "outputs": [],
   "source": [
    "device=\"cuda\" if torch.cuda.is_available() else 'cpu'\n",
    "class positional_embedding(nn.Module):\n",
    "    def __init__(self,max_len,embedding_size):\n",
    "        super(positional_embedding,self).__init__()\n",
    "        self.embed_size=embedding_size\n",
    "        self.pe=torch.zeros(max_len,self.embed_size).to(device)\n",
    "        for pos in range(max_len):\n",
    "            for i in range(0,embedding_size,2):\n",
    "                self.pe[pos,i]=np.sin(pos/(10000**((2*i)/embedding_size)))\n",
    "                self.pe[pos,i+1]=np.cos(pos/(10000**((2*(i+1))/embedding_size)))\n",
    "        self.pe=self.pe.unsqueeze(dim=0)\n",
    "    def forward(self,x):\n",
    "        x=x*np.sqrt(self.embed_size)\n",
    "        seq_len=x.shape[1]\n",
    "        x=x+self.pe[:,:seq_len]\n",
    "        return x\n",
    "        "
   ]
  },
  {
   "cell_type": "code",
   "execution_count": 20,
   "metadata": {},
   "outputs": [],
   "source": [
    "class MultiHeadAttention(nn.Module):\n",
    "    def __init__(self,embedding_size,n_heads):\n",
    "        super(MultiHeadAttention,self).__init__()\n",
    "        self.embed_size=embedding_size\n",
    "        self.n_heads=n_heads\n",
    "        self.single_head_size=int(self.embed_size/n_heads)\n",
    "        self.Q_matrix=nn.Linear(self.single_head_size,self.single_head_size,bias=False)\n",
    "        self.K_matrix=nn.Linear(self.single_head_size,self.single_head_size,bias=False)\n",
    "        self.V_matrix=nn.Linear(self.single_head_size,self.single_head_size,bias=False)\n",
    "        self.out=nn.Linear(embedding_size,embedding_size)\n",
    "    def forward(self,query,key,value,mask=None):\n",
    "        batch_size=key.shape[0]\n",
    "\n",
    "        seq_length=key.shape[1]\n",
    "\n",
    "        seq_length_query=query.shape[1]\n",
    "\n",
    "        key = key.view(batch_size, seq_length, self.n_heads, self.single_head_size)  \n",
    "        query = query.view(batch_size, seq_length_query, self.n_heads, self.single_head_size)\n",
    "        value = value.view(batch_size, seq_length, self.n_heads, self.single_head_size) \n",
    "        k = self.K_matrix(key)    \n",
    "        q = self.Q_matrix(query)   \n",
    "        v = self.V_matrix(value)\n",
    "\n",
    "        q = q.permute(0,2,1,3) \n",
    "        k = k.permute(0,2,1,3)  \n",
    "        v = v.permute(0,2,1,3) \n",
    "        \n",
    "        k_adjusted = k.transpose(-1,-2) \n",
    "        dot=torch.matmul(q,k_adjusted)\n",
    "        if mask is not None:\n",
    "            dot = dot.masked_fill(mask == 0, float(\"-1e20\"))\n",
    "        dot=dot/np.sqrt(self.single_head_size)\n",
    "        \n",
    "        scores=F.softmax(dot,dim=-1)\n",
    "        \n",
    "        scores=torch.matmul(scores,v)\n",
    "        \n",
    "        concat=scores.permute(0,2,1,3)\n",
    "        \n",
    "        concat=concat.reshape(batch_size, seq_length_query, self.single_head_size*self.n_heads)\n",
    "        \n",
    "        output=self.out(concat)\n",
    "        \n",
    "        return output\n",
    "        \n"
   ]
  },
  {
   "cell_type": "code",
   "execution_count": 21,
   "metadata": {},
   "outputs": [],
   "source": [
    "class TransformerBlock(nn.Module):\n",
    "    def __init__(self,embed_size,expansion_factor,n_heads):\n",
    "        super(TransformerBlock, self).__init__()\n",
    "        self.attention=MultiHeadAttention(embed_size,n_heads)\n",
    "        self.NN=nn.Sequential(\n",
    "            nn.Linear(embed_size,embed_size*expansion_factor),\n",
    "            nn.ReLU(),\n",
    "            nn.Linear(embed_size*expansion_factor,embed_size)\n",
    "        )\n",
    "        self.norm1=nn.LayerNorm(embed_size)\n",
    "        self.norm2=nn.LayerNorm(embed_size)\n",
    "        self.dropout1=nn.Dropout(0.2)\n",
    "        self.dropout2=nn.Dropout(0.2)\n",
    "    def forward(self,key,query,value):\n",
    "        value1=self.attention(query,key,value)\n",
    "        value1=self.dropout1(self.norm1(value1+value))\n",
    "        value2=self.NN(value1)\n",
    "        value2=self.dropout2(self.norm2(value2+value1))\n",
    "        return value2\n",
    "        \n"
   ]
  },
  {
   "cell_type": "code",
   "execution_count": 22,
   "metadata": {},
   "outputs": [],
   "source": [
    "class Encoder(nn.Module):\n",
    "    def __init__(self,vocab_size,max_len,embedding_size,num_layers,expansion_factor=4,n_heads=8):\n",
    "        super(Encoder,self).__init__()\n",
    "        self.blocks = nn.ModuleList([TransformerBlock(embedding_size, expansion_factor, n_heads) for i in range(num_layers)])\n",
    "        self.embedding=nn.Embedding(vocab_size,embedding_size)\n",
    "        self.positional=positional_embedding(max_len,embedding_size)\n",
    "    def forward(self,x):\n",
    "        embed_out=self.embedding(x)\n",
    "        out=self.positional(embed_out)\n",
    "        for block in self.blocks:\n",
    "            out=block(out,out,out)\n",
    "        return out"
   ]
  },
  {
   "cell_type": "code",
   "execution_count": 23,
   "metadata": {},
   "outputs": [],
   "source": [
    "class DecoderBlock(nn.Module):\n",
    "    def __init__(self, embed_size, expansion_factor=4, n_heads=8):\n",
    "        super(DecoderBlock, self).__init__()\n",
    "       \n",
    "        self.attention=MultiHeadAttention(embed_size,n_heads)\n",
    "       \n",
    "        self.norm=nn.LayerNorm(embed_size)\n",
    "       \n",
    "        self.dropout=nn.Dropout(0.2)\n",
    "       \n",
    "        self.transformer_block=TransformerBlock(embed_size,expansion_factor,n_heads)\n",
    "    def forward(self,query,key,x,mask):\n",
    "        attention=self.attention(x,x,x,mask=mask)\n",
    "       \n",
    "        value=self.dropout(self.norm(attention+x))\n",
    "       \n",
    "        out=self.transformer_block(query,key,value)\n",
    "       \n",
    "        return out\n",
    "class TransfomerDecoder(nn.Module):\n",
    "    def __init__(self,num_layers,target_vocab_size,max_len,embed_size,expansion_factor=4,n_heads=8):\n",
    "        super(TransfomerDecoder,self).__init__()\n",
    "        self.positional=positional_embedding(max_len,embed_size)\n",
    "        \n",
    "        self.embedding=nn.Embedding(target_vocab_size,embed_size)\n",
    "        \n",
    "        self.fc_out = nn.Linear(embed_size, target_vocab_size)\n",
    "\n",
    "        self.dropout = nn.Dropout(0.2)\n",
    "\n",
    "        self.blocks=nn.ModuleList([DecoderBlock(embed_size,expansion_factor,n_heads) for i in range(num_layers)])\n",
    "    def forward(self,x,enc_out,mask):\n",
    "        x = self.embedding(x)  \n",
    "        x = self.positional(x) \n",
    "        x = self.dropout(x)\n",
    "     \n",
    "        for layer in self.blocks:\n",
    "            x = layer(x,enc_out, enc_out, mask) \n",
    "\n",
    "        out = F.softmax(self.fc_out(x))\n",
    "\n",
    "        return out\n",
    "\n",
    "    "
   ]
  },
  {
   "cell_type": "code",
   "execution_count": 24,
   "metadata": {},
   "outputs": [],
   "source": [
    "class Transformer(nn.Module):\n",
    "    def __init__(self,embed_size,num_layers,vocab_size,target_vocab_size,max_len,n_heads=8):\n",
    "        super(Transformer,self).__init__()\n",
    "        self.target_vocab_size=target_vocab_size\n",
    "        self.encoder=Encoder(vocab_size,max_len,embed_size,num_layers) \n",
    "        self.decoder=TransfomerDecoder(num_layers,target_vocab_size,max_len,embed_size)\n",
    "    def make_trg_mask(self, trg):\n",
    "        batch_size, trg_len = trg.shape\n",
    "    \n",
    "        trg_mask = torch.tril(torch.ones((trg_len, trg_len))).expand(\n",
    "            batch_size, 1, trg_len, trg_len\n",
    "        ).to(device)\n",
    "        return trg_mask  \n",
    "    def forward(self,encoder_input,decoder_input):\n",
    "        mask=self.make_trg_mask(decoder_input)\n",
    "        encoder_output=self.encoder(encoder_input)\n",
    "        output=self.decoder(decoder_input,encoder_output,mask)\n",
    "        return output"
   ]
  },
  {
   "cell_type": "code",
   "execution_count": 25,
   "metadata": {},
   "outputs": [
    {
     "name": "stdout",
     "output_type": "stream",
     "text": [
      "torch.Size([2, 12]) torch.Size([2, 12])\n"
     ]
    }
   ],
   "source": [
    "src_vocab_size = 11\n",
    "target_vocab_size = 11\n",
    "num_layers = 6\n",
    "seq_length= 12\n",
    "n_heads=8\n",
    "\n",
    "\n",
    "src = torch.tensor([[0, 2, 5, 6, 4, 3, 9, 5, 2, 9, 10, 1], \n",
    "                    [0, 2, 8, 7, 3, 4, 5, 6, 7, 2, 10, 1]])\n",
    "target = torch.tensor([[0, 1, 7, 4, 3, 5, 9, 2, 8, 10, 9, 1], \n",
    "                       [0, 1, 5, 6, 2, 4, 7, 6, 2, 8, 10, 1]])\n",
    "\n",
    "print(src.shape,target.shape)\n",
    "model = Transformer(embed_size=512,num_layers=num_layers,vocab_size=src_vocab_size, \n",
    "                    target_vocab_size=target_vocab_size, max_len=seq_length,n_heads=n_heads).to(device)\n"
   ]
  },
  {
   "cell_type": "code",
   "execution_count": null,
   "metadata": {},
   "outputs": [],
   "source": []
  },
  {
   "cell_type": "code",
   "execution_count": 26,
   "metadata": {},
   "outputs": [
    {
     "data": {
      "text/plain": [
       "torch.Size([64, 12])"
      ]
     },
     "execution_count": 26,
     "metadata": {},
     "output_type": "execute_result"
    }
   ],
   "source": [
    "src_data = torch.randint(1, src_vocab_size, (64, seq_length)).to(device)  \n",
    "tgt_data = torch.randint(1, target_vocab_size, (64, seq_length)).to(device)\n",
    "src_data.shape"
   ]
  },
  {
   "cell_type": "code",
   "execution_count": 27,
   "metadata": {},
   "outputs": [
    {
     "data": {
      "application/vnd.jupyter.widget-view+json": {
       "model_id": "13ddadfee53b486580f1ac339671c696",
       "version_major": 2,
       "version_minor": 0
      },
      "text/plain": [
       "  0%|          | 0/200 [00:00<?, ?it/s]"
      ]
     },
     "metadata": {},
     "output_type": "display_data"
    },
    {
     "name": "stdout",
     "output_type": "stream",
     "text": [
      "Epoch: 0, Loss: 2.3974502086639404\n",
      "Epoch: 20, Loss: 2.395129680633545\n",
      "Epoch: 40, Loss: 2.389923095703125\n",
      "Epoch: 60, Loss: 2.3847243785858154\n",
      "Epoch: 80, Loss: 2.3738722801208496\n",
      "Epoch: 100, Loss: 2.365818500518799\n",
      "Epoch: 120, Loss: 2.3568003177642822\n",
      "Epoch: 140, Loss: 2.34832501411438\n",
      "Epoch: 160, Loss: 2.3421144485473633\n",
      "Epoch: 180, Loss: 2.334085702896118\n"
     ]
    }
   ],
   "source": [
    "criterion = nn.CrossEntropyLoss(ignore_index=0)\n",
    "optimizer = torch.optim.Adam(model.parameters(), lr=0.0001, betas=(0.9, 0.98), eps=1e-9)\n",
    "model.train()\n",
    "epochs=200\n",
    "from tqdm.auto import tqdm\n",
    "for epoch in tqdm(range(epochs)):\n",
    "    optimizer.zero_grad()\n",
    "    output = model(src_data, tgt_data[:, :])\n",
    "    loss = criterion(output.view(-1, target_vocab_size), tgt_data[:,:].view(-1))\n",
    "    loss.backward()\n",
    "    optimizer.step()\n",
    "    if epoch %20==0:\n",
    "        print(f\"Epoch: {epoch}, Loss: {loss.item()}\")"
   ]
  },
  {
   "cell_type": "code",
   "execution_count": null,
   "metadata": {},
   "outputs": [],
   "source": []
  },
  {
   "cell_type": "code",
   "execution_count": null,
   "metadata": {},
   "outputs": [],
   "source": []
  }
 ],
 "metadata": {
  "kernelspec": {
   "display_name": "Python 3",
   "language": "python",
   "name": "python3"
  },
  "language_info": {
   "codemirror_mode": {
    "name": "ipython",
    "version": 3
   },
   "file_extension": ".py",
   "mimetype": "text/x-python",
   "name": "python",
   "nbconvert_exporter": "python",
   "pygments_lexer": "ipython3",
   "version": "3.12.3"
  }
 },
 "nbformat": 4,
 "nbformat_minor": 2
}
